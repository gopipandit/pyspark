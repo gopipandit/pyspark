{
 "cells": [
  {
   "cell_type": "code",
   "execution_count": 1,
   "metadata": {},
   "outputs": [],
   "source": [
    "from confluent_kafka import Producer\n",
    "import json\n",
    "import time\n",
    "from dotenv import load_dotenv\n",
    "import os"
   ]
  },
  {
   "cell_type": "code",
   "execution_count": 7,
   "metadata": {},
   "outputs": [
    {
     "data": {
      "text/plain": [
       "True"
      ]
     },
     "execution_count": 7,
     "metadata": {},
     "output_type": "execute_result"
    }
   ],
   "source": [
    "load_dotenv(\"F:\\Pyspark-2025\\pyspark\\MongoDB\\.env\")"
   ]
  },
  {
   "cell_type": "code",
   "execution_count": 15,
   "metadata": {},
   "outputs": [],
   "source": [
    "bootstrap_server = os.getenv(\"bootstrap_server\")\n",
    "api_key = os.getenv(\"api_key\")\n",
    "api_secret = os.getenv(\"bootstrap_server\")"
   ]
  },
  {
   "cell_type": "code",
   "execution_count": 17,
   "metadata": {},
   "outputs": [],
   "source": [
    "# Configuration\n",
    "conf = {\n",
    "    'bootstrap.servers': bootstrap_server, \n",
    "    'security.protocol': 'SASL_SSL',    \n",
    "    'sasl.mechanisms': 'PLAIN',     \n",
    "    'sasl.username': api_key,     \n",
    "    'sasl.password': api_secret, \n",
    "}"
   ]
  },
  {
   "cell_type": "code",
   "execution_count": 18,
   "metadata": {},
   "outputs": [],
   "source": [
    "# Create a producer instance\n",
    "producer = Producer(conf)"
   ]
  },
  {
   "cell_type": "code",
   "execution_count": 19,
   "metadata": {},
   "outputs": [],
   "source": [
    "topic = 'gopinath-de'"
   ]
  },
  {
   "cell_type": "code",
   "execution_count": null,
   "metadata": {},
   "outputs": [
    {
     "name": "stdout",
     "output_type": "stream",
     "text": [
      "{'index': 1, 'message': 5}\n",
      "{'index': 2, 'message': 10}\n",
      "{'index': 3, 'message': 15}\n",
      "{'index': 4, 'message': 20}\n",
      "{'index': 5, 'message': 25}\n",
      "{'index': 6, 'message': 30}\n",
      "{'index': 7, 'message': 35}\n",
      "{'index': 8, 'message': 40}\n",
      "{'index': 9, 'message': 45}\n",
      "{'index': 10, 'message': 50}\n"
     ]
    }
   ],
   "source": [
    "for i in range(1,11):\n",
    "    data = {\"index\" : i, \"message\" : 5*i}\n",
    "    producer.produce(topic,key=str(i), value= json.dump(data))\n",
    "    time.sleep(1)\n",
    "\n",
    "producer.flush()\n",
    "print(\"All message sent to Kakfa\")"
   ]
  },
  {
   "cell_type": "code",
   "execution_count": null,
   "metadata": {},
   "outputs": [],
   "source": []
  },
  {
   "cell_type": "code",
   "execution_count": null,
   "metadata": {},
   "outputs": [
    {
     "name": "stdout",
     "output_type": "stream",
     "text": [
      "pkc-921jm.us-east-2.aws.confluent.cloud:9092\n"
     ]
    }
   ],
   "source": [
    "\n",
    "# Configuration\n",
    "conf = {\n",
    "    'bootstrap.servers': 'your_bootstrap_server',  # Replace with your bootstrap server\n",
    "    'security.protocol': 'SASL_SSL',              # Use SASL_SSL for secure connections\n",
    "    'sasl.mechanisms': 'PLAIN',                   # PLAIN mechanism for API key/secret\n",
    "    'sasl.username': 'your_api_key',              # Replace with your API key\n",
    "    'sasl.password': 'your_api_secret',           # Replace with your API secret\n",
    "}\n",
    "\n",
    "# Create a producer instance\n",
    "producer = Producer(conf)\n",
    "\n",
    "# Define a delivery callback to check if the message was successfully delivered\n",
    "def delivery_callback(err, msg):\n",
    "    if err:\n",
    "        print(f'Message delivery failed: {err}')\n",
    "    else:\n",
    "        print(f'Message delivered to {msg.topic()} [{msg.partition()}]')\n",
    "\n",
    "# Produce a message\n",
    "topic = 'your_topic_name'  # Replace with your topic name\n",
    "message = 'Hello, Kafka!'\n",
    "producer.produce(topic, key='key', value=message,"
   ]
  }
 ],
 "metadata": {
  "kernelspec": {
   "display_name": "pyspark",
   "language": "python",
   "name": "python3"
  },
  "language_info": {
   "codemirror_mode": {
    "name": "ipython",
    "version": 3
   },
   "file_extension": ".py",
   "mimetype": "text/x-python",
   "name": "python",
   "nbconvert_exporter": "python",
   "pygments_lexer": "ipython3",
   "version": "3.11.0"
  }
 },
 "nbformat": 4,
 "nbformat_minor": 2
}
