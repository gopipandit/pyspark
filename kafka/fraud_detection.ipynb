{
 "cells": [
  {
   "cell_type": "code",
   "execution_count": 24,
   "metadata": {},
   "outputs": [],
   "source": [
    "import os\n",
    "from dotenv import load_dotenv\n",
    "from faker import Faker\n",
    "import random\n",
    "import time\n",
    "import json\n",
    "from confluent_kafka import Producer, Consumer\n",
    "\n",
    "load_dotenv(\"F:\\Pyspark-2025\\pyspark\\MongoDB\\.env\") # Load from .env file\n",
    "\n",
    "fake = Faker()\n",
    "conf = {\n",
    "    'bootstrap.servers': os.getenv('bootstrap_server'),\n",
    "    'security.protocol': 'SASL_SSL',\n",
    "    'sasl.mechanism': 'PLAIN',\n",
    "    'sasl.username': os.getenv('api_key2'),\n",
    "    'sasl.password': os.getenv('api_secret2')\n",
    "}\n"
   ]
  },
  {
   "cell_type": "code",
   "execution_count": 25,
   "metadata": {},
   "outputs": [],
   "source": [
    "# Create a producer instance\n",
    "producer = Producer(conf)"
   ]
  },
  {
   "cell_type": "code",
   "execution_count": 13,
   "metadata": {},
   "outputs": [],
   "source": [
    "def generate_transactions():\n",
    "    transaction = {\n",
    "        \"transaction_id\": fake.uuid4(),\n",
    "        \"timestamp\": int(time.time()),\n",
    "        \"user_id\": random.randint(10000, 99999),\n",
    "        \"amount\": round(random.uniform(5, 5000), 2),\n",
    "        \"transaction_type\": random.choice([\"purchase\", \"transfer\", \"withdrawal\"]),\n",
    "        \"location\": fake.city(),\n",
    "        \"merchant\": fake.company(),\n",
    "        \"card_number\": fake.credit_card_number()\n",
    "    }\n",
    "    return transaction"
   ]
  },
  {
   "cell_type": "code",
   "execution_count": 20,
   "metadata": {},
   "outputs": [],
   "source": [
    "def delivery_report(err, msg):\n",
    "    if err:\n",
    "        print(f'Message delivery failed: {err}')\n",
    "    else:\n",
    "        print(f'Message delivered to {msg.topic()} [{msg.partition()}]')"
   ]
  },
  {
   "cell_type": "code",
   "execution_count": null,
   "metadata": {},
   "outputs": [],
   "source": [
    "while True:\n",
    "    txn = generate_transactions()\n",
    "    producer.produce(\"txn_data\",value = json.dumps(txn), key = str(txn['user_id']), callback=delivery_report)\n",
    "    producer.flush()\n"
   ]
  },
  {
   "cell_type": "code",
   "execution_count": null,
   "metadata": {},
   "outputs": [],
   "source": []
  }
 ],
 "metadata": {
  "kernelspec": {
   "display_name": "Python 3",
   "language": "python",
   "name": "python3"
  },
  "language_info": {
   "codemirror_mode": {
    "name": "ipython",
    "version": 3
   },
   "file_extension": ".py",
   "mimetype": "text/x-python",
   "name": "python",
   "nbconvert_exporter": "python",
   "pygments_lexer": "ipython3",
   "version": "3.11.0"
  }
 },
 "nbformat": 4,
 "nbformat_minor": 2
}
