{
 "cells": [
  {
   "cell_type": "code",
   "execution_count": 19,
   "metadata": {},
   "outputs": [],
   "source": [
    "import os\n",
    "from dotenv import load_dotenv\n",
    "from faker import Faker\n",
    "import random\n",
    "import time\n",
    "import json\n",
    "from confluent_kafka import Producer, Consumer\n",
    "\n",
    "load_dotenv(\"F:\\Pyspark-2025\\pyspark\\MongoDB\\.env\") # Load from .env file\n",
    "\n",
    "fake = Faker()\n",
    "conf = {\n",
    "    'bootstrap.servers': os.getenv('bootstrap_server'),\n",
    "    'security.protocol': 'SASL_SSL',\n",
    "    'sasl.mechanism': 'PLAIN',\n",
    "    'sasl.username': os.getenv('api_key2'),\n",
    "    'sasl.password': os.getenv('api_secret2')\n",
    "}\n"
   ]
  },
  {
   "cell_type": "code",
   "execution_count": 12,
   "metadata": {},
   "outputs": [],
   "source": [
    "# Create a producer instance\n",
    "producer = Producer(conf)"
   ]
  },
  {
   "cell_type": "code",
   "execution_count": 13,
   "metadata": {},
   "outputs": [],
   "source": [
    "def generate_transactions():\n",
    "    transaction = {\n",
    "        \"transaction_id\": fake.uuid4(),\n",
    "        \"timestamp\": int(time.time()),\n",
    "        \"user_id\": random.randint(10000, 99999),\n",
    "        \"amount\": round(random.uniform(5, 5000), 2),\n",
    "        \"transaction_type\": random.choice([\"purchase\", \"transfer\", \"withdrawal\"]),\n",
    "        \"location\": fake.city(),\n",
    "        \"merchant\": fake.company(),\n",
    "        \"card_number\": fake.credit_card_number()\n",
    "    }\n",
    "    return transaction"
   ]
  },
  {
   "cell_type": "code",
   "execution_count": 20,
   "metadata": {},
   "outputs": [],
   "source": [
    "def delivery_report(err, msg):\n",
    "    if err:\n",
    "        print(f'Message delivery failed: {err}')\n",
    "    else:\n",
    "        print(f'Message delivered to {msg.topic()} [{msg.partition()}]')"
   ]
  },
  {
   "cell_type": "code",
   "execution_count": 21,
   "metadata": {},
   "outputs": [
    {
     "name": "stdout",
     "output_type": "stream",
     "text": [
      "Message delivered to txn_data [5]\n",
      "Message delivered to txn_data [5]\n",
      "Message delivered to txn_data [5]\n",
      "Message delivered to txn_data [1]\n",
      "Message delivered to txn_data [2]\n",
      "Message delivered to txn_data [4]\n",
      "Message delivered to txn_data [2]\n",
      "Message delivered to txn_data [4]\n",
      "Message delivered to txn_data [4]\n",
      "Message delivered to txn_data [0]\n",
      "Message delivered to txn_data [5]\n"
     ]
    },
    {
     "ename": "KeyboardInterrupt",
     "evalue": "",
     "output_type": "error",
     "traceback": [
      "\u001b[1;31m---------------------------------------------------------------------------\u001b[0m",
      "\u001b[1;31mKeyboardInterrupt\u001b[0m                         Traceback (most recent call last)",
      "Cell \u001b[1;32mIn[21], line 4\u001b[0m\n\u001b[0;32m      2\u001b[0m txn \u001b[38;5;241m=\u001b[39m generate_transactions()\n\u001b[0;32m      3\u001b[0m producer\u001b[38;5;241m.\u001b[39mproduce(\u001b[38;5;124m\"\u001b[39m\u001b[38;5;124mtxn_data\u001b[39m\u001b[38;5;124m\"\u001b[39m,value \u001b[38;5;241m=\u001b[39m json\u001b[38;5;241m.\u001b[39mdumps(txn), key \u001b[38;5;241m=\u001b[39m \u001b[38;5;28mstr\u001b[39m(txn[\u001b[38;5;124m'\u001b[39m\u001b[38;5;124muser_id\u001b[39m\u001b[38;5;124m'\u001b[39m]), callback\u001b[38;5;241m=\u001b[39mdelivery_report)\n\u001b[1;32m----> 4\u001b[0m \u001b[43mproducer\u001b[49m\u001b[38;5;241;43m.\u001b[39;49m\u001b[43mflush\u001b[49m\u001b[43m(\u001b[49m\u001b[43m)\u001b[49m\n",
      "Cell \u001b[1;32mIn[20], line 1\u001b[0m, in \u001b[0;36mdelivery_report\u001b[1;34m(err, msg)\u001b[0m\n\u001b[1;32m----> 1\u001b[0m \u001b[38;5;28;01mdef\u001b[39;00m \u001b[38;5;21mdelivery_report\u001b[39m(err, msg):\n\u001b[0;32m      2\u001b[0m     \u001b[38;5;28;01mif\u001b[39;00m err:\n\u001b[0;32m      3\u001b[0m         \u001b[38;5;28mprint\u001b[39m(\u001b[38;5;124mf\u001b[39m\u001b[38;5;124m'\u001b[39m\u001b[38;5;124mMessage delivery failed: \u001b[39m\u001b[38;5;132;01m{\u001b[39;00merr\u001b[38;5;132;01m}\u001b[39;00m\u001b[38;5;124m'\u001b[39m)\n",
      "\u001b[1;31mKeyboardInterrupt\u001b[0m: "
     ]
    }
   ],
   "source": [
    "while True:\n",
    "    txn = generate_transactions()\n",
    "    producer.produce(\"txn_data\",value = json.dumps(txn), key = str(txn['user_id']), callback=delivery_report)\n",
    "    producer.flush()\n"
   ]
  },
  {
   "cell_type": "code",
   "execution_count": null,
   "metadata": {},
   "outputs": [],
   "source": []
  }
 ],
 "metadata": {
  "kernelspec": {
   "display_name": "Python 3",
   "language": "python",
   "name": "python3"
  },
  "language_info": {
   "codemirror_mode": {
    "name": "ipython",
    "version": 3
   },
   "file_extension": ".py",
   "mimetype": "text/x-python",
   "name": "python",
   "nbconvert_exporter": "python",
   "pygments_lexer": "ipython3",
   "version": "3.11.0"
  }
 },
 "nbformat": 4,
 "nbformat_minor": 2
}
