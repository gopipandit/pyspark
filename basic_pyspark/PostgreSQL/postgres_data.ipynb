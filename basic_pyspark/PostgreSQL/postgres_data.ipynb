{
 "cells": [
  {
   "cell_type": "code",
   "execution_count": 13,
   "metadata": {},
   "outputs": [],
   "source": [
    "from pyspark.sql import SparkSession\n",
    "spark = SparkSession.builder.appName(\"SQL\").getOrCreate()"
   ]
  },
  {
   "cell_type": "code",
   "execution_count": 17,
   "metadata": {},
   "outputs": [],
   "source": [
    "od = spark.read.format(\"csv\")\\\n",
    "    .option('header', True)\\\n",
    "    .option('inferSchema', True)\\\n",
    "    .load(r\"F:\\Pyspark-2025\\pyspark\\orders.csv\")"
   ]
  },
  {
   "cell_type": "code",
   "execution_count": 20,
   "metadata": {},
   "outputs": [],
   "source": [
    "from pyspark.sql.functions import col"
   ]
  },
  {
   "cell_type": "code",
   "execution_count": null,
   "metadata": {},
   "outputs": [],
   "source": [
    "# Create Customers dimension table\n",
    "customers = od2.select(\n",
    "    col(\"Customer ID\").alias(\"customer_id\"),\n",
    "    col(\"Customer Name\").alias(\"customer_name\"),\n",
    "    col(\"City\").alias(\"city\"),\n",
    "    col(\"State or Province\").alias(\"state_or_province\"),\n",
    "    col(\"Postal Code\").alias(\"postal_code\"),\n",
    "    col(\"Region\").alias(\"region\")\n",
    ").distinct()\n",
    "\n",
    "# Create Products dimension table\n",
    "products = od2.select(\n",
    "    col(\"Product Name\").alias(\"product_name\"),\n",
    "    col(\"Product Category\").alias(\"product_category\"),\n",
    "    col(\"Product Sub-Category\").alias(\"product_sub_category\"),\n",
    "    col(\"Product Container\").alias(\"product_container\"),\n",
    "    col(\"Product Base Margin\").alias(\"product_base_margin\")\n",
    ").distinct()\n",
    "\n",
    "# Create Orders dimension table\n",
    "orders = od2.select(\n",
    "    col(\"Order ID\").alias(\"order_id\"),\n",
    "    col(\"Order Date\").alias(\"order_date\"),\n",
    "    col(\"Ship Date\").alias(\"ship_date\"),\n",
    "    col(\"Order Priority\").alias(\"order_priority\"),\n",
    "    col(\"Ship Mode\").alias(\"ship_mode\")\n",
    ").distinct()"
   ]
  },
  {
   "cell_type": "code",
   "execution_count": 52,
   "metadata": {},
   "outputs": [],
   "source": [
    "# Create Sales fact table\n",
    "sales = od2.select(\n",
    "    col(\"Row ID\").alias(\"row_id\"),\n",
    "    col(\"Order ID\").alias(\"order_id\"),\n",
    "    col(\"Customer ID\").alias(\"customer_id\"),\n",
    "    col(\"Product Name\").alias(\"product_name\"),\n",
    "    col(\"Discount\").alias(\"discount\"),\n",
    "    col(\"Unit Price\").alias(\"unit_price\"),\n",
    "    col(\"Shipping Cost\").alias(\"shipping_cost\"),\n",
    "    col(\"Profit\").alias(\"profit\"),\n",
    "    col(\"Quantity ordered new\").alias(\"quantity_ordered_new\"),\n",
    "    col(\"Sales\").alias(\"sales\")\n",
    ")"
   ]
  },
  {
   "cell_type": "code",
   "execution_count": null,
   "metadata": {},
   "outputs": [],
   "source": []
  },
  {
   "cell_type": "code",
   "execution_count": null,
   "metadata": {},
   "outputs": [],
   "source": []
  }
 ],
 "metadata": {
  "kernelspec": {
   "display_name": "Python 3",
   "language": "python",
   "name": "python3"
  },
  "language_info": {
   "codemirror_mode": {
    "name": "ipython",
    "version": 3
   },
   "file_extension": ".py",
   "mimetype": "text/x-python",
   "name": "python",
   "nbconvert_exporter": "python",
   "pygments_lexer": "ipython3",
   "version": "3.11.0"
  }
 },
 "nbformat": 4,
 "nbformat_minor": 2
}
