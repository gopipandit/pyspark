{
 "cells": [
  {
   "cell_type": "code",
   "id": "initial_id",
   "metadata": {
    "collapsed": true,
    "ExecuteTime": {
     "end_time": "2025-07-08T18:30:20.572981Z",
     "start_time": "2025-07-08T18:30:20.147628Z"
    }
   },
   "source": "from pyspark.sql import SparkSession",
   "outputs": [],
   "execution_count": 1
  },
  {
   "metadata": {
    "ExecuteTime": {
     "end_time": "2025-07-08T18:30:39.074761Z",
     "start_time": "2025-07-08T18:30:23.010559Z"
    }
   },
   "cell_type": "code",
   "source": [
    "spark = SparkSession.builder \\\n",
    "    .appName(\"basic\") \\\n",
    "    .master(\"local[*]\") \\\n",
    "    .getOrCreate()"
   ],
   "id": "de5c8f9fa44afd0d",
   "outputs": [],
   "execution_count": 2
  },
  {
   "metadata": {
    "ExecuteTime": {
     "end_time": "2025-07-08T18:30:43.521017Z",
     "start_time": "2025-07-08T18:30:42.377312Z"
    }
   },
   "cell_type": "code",
   "source": "spark",
   "id": "712db237e32c1d93",
   "outputs": [
    {
     "data": {
      "text/plain": [
       "<pyspark.sql.session.SparkSession at 0x232fe697d10>"
      ],
      "text/html": [
       "\n",
       "            <div>\n",
       "                <p><b>SparkSession - in-memory</b></p>\n",
       "                \n",
       "        <div>\n",
       "            <p><b>SparkContext</b></p>\n",
       "\n",
       "            <p><a href=\"http://gpandit:4040\">Spark UI</a></p>\n",
       "\n",
       "            <dl>\n",
       "              <dt>Version</dt>\n",
       "                <dd><code>v3.5.1</code></dd>\n",
       "              <dt>Master</dt>\n",
       "                <dd><code>local[*]</code></dd>\n",
       "              <dt>AppName</dt>\n",
       "                <dd><code>basic</code></dd>\n",
       "            </dl>\n",
       "        </div>\n",
       "        \n",
       "            </div>\n",
       "        "
      ]
     },
     "execution_count": 3,
     "metadata": {},
     "output_type": "execute_result"
    }
   ],
   "execution_count": 3
  },
  {
   "metadata": {
    "ExecuteTime": {
     "end_time": "2025-07-08T18:30:57.532058Z",
     "start_time": "2025-07-08T18:30:57.523915Z"
    }
   },
   "cell_type": "code",
   "source": "spark.conf.get(\"spark.sql.shuffle.partitions\")",
   "id": "bc8001a7d31b9798",
   "outputs": [
    {
     "data": {
      "text/plain": [
       "'200'"
      ]
     },
     "execution_count": 4,
     "metadata": {},
     "output_type": "execute_result"
    }
   ],
   "execution_count": 4
  },
  {
   "metadata": {
    "ExecuteTime": {
     "end_time": "2025-07-08T18:31:16.149620Z",
     "start_time": "2025-07-08T18:31:16.142036Z"
    }
   },
   "cell_type": "code",
   "source": "spark.conf.get(\"spark.sql.adaptive.enabled\")",
   "id": "8ee484bdf3f2f7d4",
   "outputs": [
    {
     "data": {
      "text/plain": [
       "'true'"
      ]
     },
     "execution_count": 5,
     "metadata": {},
     "output_type": "execute_result"
    }
   ],
   "execution_count": 5
  },
  {
   "metadata": {
    "ExecuteTime": {
     "end_time": "2025-07-08T19:18:38.938651Z",
     "start_time": "2025-07-08T19:18:38.821916Z"
    }
   },
   "cell_type": "code",
   "source": [
    "import psycopg2\n",
    "import os\n",
    "\n",
    "conn = psycopg2.connect(\n",
    "    host=\"localhost\",\n",
    "    port=5432,\n",
    "    database=\"interview_prep\",\n",
    "    user=\"postgres\",\n",
    "    password=\"@impandit\"\n",
    ")"
   ],
   "id": "a84625e135c43399",
   "outputs": [],
   "execution_count": 31
  },
  {
   "metadata": {
    "ExecuteTime": {
     "end_time": "2025-07-08T19:20:35.433593Z",
     "start_time": "2025-07-08T19:20:35.429503Z"
    }
   },
   "cell_type": "code",
   "source": "cur = conn.cursor()",
   "id": "d845447abfe83183",
   "outputs": [],
   "execution_count": 38
  },
  {
   "metadata": {},
   "cell_type": "code",
   "outputs": [],
   "execution_count": null,
   "source": "",
   "id": "8264aac34ef1a934"
  },
  {
   "metadata": {
    "ExecuteTime": {
     "end_time": "2025-07-08T19:20:42.674319Z",
     "start_time": "2025-07-08T19:20:42.668914Z"
    }
   },
   "cell_type": "code",
   "source": "cur.execute(\"SELECT version();\")",
   "id": "5565060c05486b09",
   "outputs": [],
   "execution_count": 39
  },
  {
   "metadata": {
    "ExecuteTime": {
     "end_time": "2025-07-08T19:20:56.123048Z",
     "start_time": "2025-07-08T19:20:56.113560Z"
    }
   },
   "cell_type": "code",
   "source": "print(cur.fetchone())",
   "id": "7082ae0d1e9da854",
   "outputs": [
    {
     "name": "stdout",
     "output_type": "stream",
     "text": [
      "('PostgreSQL 16.9, compiled by Visual C++ build 1943, 64-bit',)\n"
     ]
    }
   ],
   "execution_count": 40
  },
  {
   "metadata": {
    "ExecuteTime": {
     "end_time": "2025-07-08T19:21:00.623464Z",
     "start_time": "2025-07-08T19:21:00.619805Z"
    }
   },
   "cell_type": "code",
   "source": "cur.execute(\"set search_path to swiss_re;\")",
   "id": "d3c8d02289dc1ae5",
   "outputs": [],
   "execution_count": 41
  },
  {
   "metadata": {
    "ExecuteTime": {
     "end_time": "2025-07-08T19:21:35.348524Z",
     "start_time": "2025-07-08T19:21:35.343684Z"
    }
   },
   "cell_type": "code",
   "source": "print(cur.execute(\"select * from swiss_re.claims;\"))",
   "id": "45e77567097900eb",
   "outputs": [
    {
     "name": "stdout",
     "output_type": "stream",
     "text": [
      "None\n"
     ]
    }
   ],
   "execution_count": 44
  },
  {
   "metadata": {
    "ExecuteTime": {
     "end_time": "2025-07-08T19:19:50.698161Z",
     "start_time": "2025-07-08T19:19:50.693120Z"
    }
   },
   "cell_type": "code",
   "source": "print(data)",
   "id": "ba72dc947fa53297",
   "outputs": [
    {
     "name": "stdout",
     "output_type": "stream",
     "text": [
      "None\n"
     ]
    }
   ],
   "execution_count": 36
  },
  {
   "metadata": {
    "ExecuteTime": {
     "end_time": "2025-07-08T19:20:02.000069Z",
     "start_time": "2025-07-08T19:20:01.996719Z"
    }
   },
   "cell_type": "code",
   "source": "cur.close()",
   "id": "22d7fbaad18e77d0",
   "outputs": [],
   "execution_count": 37
  },
  {
   "metadata": {
    "ExecuteTime": {
     "end_time": "2025-07-08T19:18:24.563365Z",
     "start_time": "2025-07-08T19:18:24.560418Z"
    }
   },
   "cell_type": "code",
   "source": "conn.close()",
   "id": "beca0e1eca25e845",
   "outputs": [],
   "execution_count": 30
  },
  {
   "metadata": {
    "ExecuteTime": {
     "end_time": "2025-07-08T19:06:30.016776Z",
     "start_time": "2025-07-08T19:06:28.042839Z"
    }
   },
   "cell_type": "code",
   "source": [
    "from faker import Faker\n",
    "import pandas as pd\n",
    "import random\n",
    "from datetime import datetime\n",
    "\n",
    "fake = Faker()\n",
    "\n",
    "# Constants\n",
    "num_records = 10000\n",
    "source_system = \"Contract_SR_Europa_3\"\n",
    "contract_types = [\"Direct\", \"Reinsurance\", \"\"]  # include blank as valid\n",
    "\n",
    "# Fixed Dates\n",
    "insured_from = \"01.01.2015\"\n",
    "insured_to = \"01.01.2099\"\n",
    "creation_date = \"17.01.2022 13:42\"\n",
    "\n",
    "# Generate Data\n",
    "data = []\n",
    "\n",
    "for _ in range(num_records):\n",
    "    contract_id = random.randint(10000000, 999999999)  # 8 to 9 digit number\n",
    "    contract_type = random.choices(contract_types, weights=[0.45, 0.45, 0.1])[0]  # blank 10% of the time\n",
    "\n",
    "    row = {\n",
    "        \"SOURCE_SYSTEM\": source_system,\n",
    "        \"CONTRACT_ID\": contract_id,\n",
    "        \"CONTRACT_TYPE\": contract_type,\n",
    "        \"INSURED_PERIOD_FROM\": insured_from,\n",
    "        \"INSUDRED_PERIOD_TO\": insured_to,\n",
    "        \"CREATION_DATE\": creation_date\n",
    "    }\n",
    "    data.append(row)\n",
    "\n",
    "# Create DataFrame\n",
    "df = pd.DataFrame(data)\n",
    "# \n",
    "# # Save to CSV\n",
    "# df.to_csv(\"contract_data_10k.csv\", index=False)\n"
   ],
   "id": "f8efd6111ce94ca8",
   "outputs": [],
   "execution_count": 1
  },
  {
   "metadata": {
    "ExecuteTime": {
     "end_time": "2025-07-08T19:06:35.878724Z",
     "start_time": "2025-07-08T19:06:35.848351Z"
    }
   },
   "cell_type": "code",
   "source": "df.head()",
   "id": "696a04b3cb1d6e2e",
   "outputs": [
    {
     "data": {
      "text/plain": [
       "          SOURCE_SYSTEM  CONTRACT_ID CONTRACT_TYPE INSURED_PERIOD_FROM  \\\n",
       "0  Contract_SR_Europa_3    537904473        Direct          01.01.2015   \n",
       "1  Contract_SR_Europa_3    509721623        Direct          01.01.2015   \n",
       "2  Contract_SR_Europa_3    756773014        Direct          01.01.2015   \n",
       "3  Contract_SR_Europa_3    929285796   Reinsurance          01.01.2015   \n",
       "4  Contract_SR_Europa_3    695527691        Direct          01.01.2015   \n",
       "\n",
       "  INSUDRED_PERIOD_TO     CREATION_DATE  \n",
       "0         01.01.2099  17.01.2022 13:42  \n",
       "1         01.01.2099  17.01.2022 13:42  \n",
       "2         01.01.2099  17.01.2022 13:42  \n",
       "3         01.01.2099  17.01.2022 13:42  \n",
       "4         01.01.2099  17.01.2022 13:42  "
      ],
      "text/html": [
       "<div>\n",
       "<style scoped>\n",
       "    .dataframe tbody tr th:only-of-type {\n",
       "        vertical-align: middle;\n",
       "    }\n",
       "\n",
       "    .dataframe tbody tr th {\n",
       "        vertical-align: top;\n",
       "    }\n",
       "\n",
       "    .dataframe thead th {\n",
       "        text-align: right;\n",
       "    }\n",
       "</style>\n",
       "<table border=\"1\" class=\"dataframe\">\n",
       "  <thead>\n",
       "    <tr style=\"text-align: right;\">\n",
       "      <th></th>\n",
       "      <th>SOURCE_SYSTEM</th>\n",
       "      <th>CONTRACT_ID</th>\n",
       "      <th>CONTRACT_TYPE</th>\n",
       "      <th>INSURED_PERIOD_FROM</th>\n",
       "      <th>INSUDRED_PERIOD_TO</th>\n",
       "      <th>CREATION_DATE</th>\n",
       "    </tr>\n",
       "  </thead>\n",
       "  <tbody>\n",
       "    <tr>\n",
       "      <th>0</th>\n",
       "      <td>Contract_SR_Europa_3</td>\n",
       "      <td>537904473</td>\n",
       "      <td>Direct</td>\n",
       "      <td>01.01.2015</td>\n",
       "      <td>01.01.2099</td>\n",
       "      <td>17.01.2022 13:42</td>\n",
       "    </tr>\n",
       "    <tr>\n",
       "      <th>1</th>\n",
       "      <td>Contract_SR_Europa_3</td>\n",
       "      <td>509721623</td>\n",
       "      <td>Direct</td>\n",
       "      <td>01.01.2015</td>\n",
       "      <td>01.01.2099</td>\n",
       "      <td>17.01.2022 13:42</td>\n",
       "    </tr>\n",
       "    <tr>\n",
       "      <th>2</th>\n",
       "      <td>Contract_SR_Europa_3</td>\n",
       "      <td>756773014</td>\n",
       "      <td>Direct</td>\n",
       "      <td>01.01.2015</td>\n",
       "      <td>01.01.2099</td>\n",
       "      <td>17.01.2022 13:42</td>\n",
       "    </tr>\n",
       "    <tr>\n",
       "      <th>3</th>\n",
       "      <td>Contract_SR_Europa_3</td>\n",
       "      <td>929285796</td>\n",
       "      <td>Reinsurance</td>\n",
       "      <td>01.01.2015</td>\n",
       "      <td>01.01.2099</td>\n",
       "      <td>17.01.2022 13:42</td>\n",
       "    </tr>\n",
       "    <tr>\n",
       "      <th>4</th>\n",
       "      <td>Contract_SR_Europa_3</td>\n",
       "      <td>695527691</td>\n",
       "      <td>Direct</td>\n",
       "      <td>01.01.2015</td>\n",
       "      <td>01.01.2099</td>\n",
       "      <td>17.01.2022 13:42</td>\n",
       "    </tr>\n",
       "  </tbody>\n",
       "</table>\n",
       "</div>"
      ]
     },
     "execution_count": 2,
     "metadata": {},
     "output_type": "execute_result"
    }
   ],
   "execution_count": 2
  },
  {
   "metadata": {
    "ExecuteTime": {
     "end_time": "2025-07-08T19:10:31.942599Z",
     "start_time": "2025-07-08T19:10:31.045901Z"
    }
   },
   "cell_type": "code",
   "source": [
    "import pandas as pd\n",
    "import random\n",
    "from faker import Faker\n",
    "from datetime import datetime\n",
    "\n",
    "fake = Faker()\n",
    "\n",
    "# Load contract_id list from earlier file\n",
    "contracts_df = df.copy()\n",
    "valid_contract_ids = contracts_df[\"CONTRACT_ID\"].tolist()\n",
    "\n",
    "num_records = 10000\n",
    "match_percent = 0.9\n",
    "num_matching = int(num_records * match_percent)\n",
    "num_non_matching = num_records - num_matching\n",
    "\n",
    "claim_ids = set()\n",
    "data = []\n",
    "\n",
    "# Function to create unique claim ID\n",
    "def generate_claim_id():\n",
    "    while True:\n",
    "        prefix = random.choice([\"CL_\", \"CX_\", \"RX_\", \"U_\"])\n",
    "        num = random.randint(100000, 99999999)\n",
    "        claim_id = prefix + str(num)\n",
    "        if claim_id not in claim_ids:\n",
    "            claim_ids.add(claim_id)\n",
    "            return claim_id\n",
    "\n",
    "# Generate matching CONTRACT_IDs (90%)\n",
    "for _ in range(num_matching):\n",
    "    row = {\n",
    "        \"SOURCE_SYSTEM\": \"Claim_SR_Europa_3\",\n",
    "        \"CLAIM_ID\": generate_claim_id(),\n",
    "        \"CONTRACT_SOURCE_SYSTEM\": \"Contract_SR_Europa_3\",\n",
    "        \"CONTRACT_ID\": random.choice(valid_contract_ids),\n",
    "        \"CLAIM_TYPE\": random.choices([1, 2, \"\"], weights=[0.45, 0.45, 0.1])[0],\n",
    "        \"DATE_OF_LOSS\": fake.date_between(start_date='-5y', end_date='today').strftime(\"%d.%m.%Y\"),\n",
    "        \"AMOUNT\": round(random.uniform(100.0, 100000.0), 2),\n",
    "        \"CREATION_DATE\": \"17.01.2022 14:45\"\n",
    "    }\n",
    "    data.append(row)\n",
    "\n",
    "# Generate non-matching CONTRACT_IDs (10%)\n",
    "for _ in range(num_non_matching):\n",
    "    row = {\n",
    "        \"SOURCE_SYSTEM\": \"Claim_SR_Europa_3\",\n",
    "        \"CLAIM_ID\": generate_claim_id(),\n",
    "        \"CONTRACT_SOURCE_SYSTEM\": \"Contract_SR_Europa_3\",\n",
    "        \"CONTRACT_ID\": random.randint(10000000, 999999999),  # unlikely to match\n",
    "        \"CLAIM_TYPE\": random.choices([1, 2, \"\"], weights=[0.45, 0.45, 0.1])[0],\n",
    "        \"DATE_OF_LOSS\": fake.date_between(start_date='-5y', end_date='today').strftime(\"%d.%m.%Y\"),\n",
    "        \"AMOUNT\": round(random.uniform(100.0, 100000.0), 2),\n",
    "        \"CREATION_DATE\": \"17.01.2022 14:45\"\n",
    "    }\n",
    "    data.append(row)\n",
    "\n",
    "# Create DataFrame and save\n",
    "claims_df = pd.DataFrame(data)\n",
    "# claims_df.to_csv(\"claim_data_10k.csv\", index=False)\n"
   ],
   "id": "f0551ac1fb79abf8",
   "outputs": [],
   "execution_count": 3
  },
  {
   "metadata": {
    "ExecuteTime": {
     "end_time": "2025-07-08T19:10:44.755422Z",
     "start_time": "2025-07-08T19:10:44.740924Z"
    }
   },
   "cell_type": "code",
   "source": "claims_df.head()",
   "id": "3305ebd445dd8d49",
   "outputs": [
    {
     "data": {
      "text/plain": [
       "       SOURCE_SYSTEM     CLAIM_ID CONTRACT_SOURCE_SYSTEM  CONTRACT_ID  \\\n",
       "0  Claim_SR_Europa_3  CX_95589333   Contract_SR_Europa_3    973836969   \n",
       "1  Claim_SR_Europa_3  CL_18933415   Contract_SR_Europa_3    771630360   \n",
       "2  Claim_SR_Europa_3  CX_32667818   Contract_SR_Europa_3    890602621   \n",
       "3  Claim_SR_Europa_3   U_82340382   Contract_SR_Europa_3    378874195   \n",
       "4  Claim_SR_Europa_3   RX_7795553   Contract_SR_Europa_3    343567665   \n",
       "\n",
       "  CLAIM_TYPE DATE_OF_LOSS    AMOUNT     CREATION_DATE  \n",
       "0          1   29.07.2020    576.42  17.01.2022 14:45  \n",
       "1          2   27.11.2022   1532.53  17.01.2022 14:45  \n",
       "2          2   11.02.2021  99694.64  17.01.2022 14:45  \n",
       "3              08.03.2023  93608.35  17.01.2022 14:45  \n",
       "4          2   27.09.2020   3434.98  17.01.2022 14:45  "
      ],
      "text/html": [
       "<div>\n",
       "<style scoped>\n",
       "    .dataframe tbody tr th:only-of-type {\n",
       "        vertical-align: middle;\n",
       "    }\n",
       "\n",
       "    .dataframe tbody tr th {\n",
       "        vertical-align: top;\n",
       "    }\n",
       "\n",
       "    .dataframe thead th {\n",
       "        text-align: right;\n",
       "    }\n",
       "</style>\n",
       "<table border=\"1\" class=\"dataframe\">\n",
       "  <thead>\n",
       "    <tr style=\"text-align: right;\">\n",
       "      <th></th>\n",
       "      <th>SOURCE_SYSTEM</th>\n",
       "      <th>CLAIM_ID</th>\n",
       "      <th>CONTRACT_SOURCE_SYSTEM</th>\n",
       "      <th>CONTRACT_ID</th>\n",
       "      <th>CLAIM_TYPE</th>\n",
       "      <th>DATE_OF_LOSS</th>\n",
       "      <th>AMOUNT</th>\n",
       "      <th>CREATION_DATE</th>\n",
       "    </tr>\n",
       "  </thead>\n",
       "  <tbody>\n",
       "    <tr>\n",
       "      <th>0</th>\n",
       "      <td>Claim_SR_Europa_3</td>\n",
       "      <td>CX_95589333</td>\n",
       "      <td>Contract_SR_Europa_3</td>\n",
       "      <td>973836969</td>\n",
       "      <td>1</td>\n",
       "      <td>29.07.2020</td>\n",
       "      <td>576.42</td>\n",
       "      <td>17.01.2022 14:45</td>\n",
       "    </tr>\n",
       "    <tr>\n",
       "      <th>1</th>\n",
       "      <td>Claim_SR_Europa_3</td>\n",
       "      <td>CL_18933415</td>\n",
       "      <td>Contract_SR_Europa_3</td>\n",
       "      <td>771630360</td>\n",
       "      <td>2</td>\n",
       "      <td>27.11.2022</td>\n",
       "      <td>1532.53</td>\n",
       "      <td>17.01.2022 14:45</td>\n",
       "    </tr>\n",
       "    <tr>\n",
       "      <th>2</th>\n",
       "      <td>Claim_SR_Europa_3</td>\n",
       "      <td>CX_32667818</td>\n",
       "      <td>Contract_SR_Europa_3</td>\n",
       "      <td>890602621</td>\n",
       "      <td>2</td>\n",
       "      <td>11.02.2021</td>\n",
       "      <td>99694.64</td>\n",
       "      <td>17.01.2022 14:45</td>\n",
       "    </tr>\n",
       "    <tr>\n",
       "      <th>3</th>\n",
       "      <td>Claim_SR_Europa_3</td>\n",
       "      <td>U_82340382</td>\n",
       "      <td>Contract_SR_Europa_3</td>\n",
       "      <td>378874195</td>\n",
       "      <td></td>\n",
       "      <td>08.03.2023</td>\n",
       "      <td>93608.35</td>\n",
       "      <td>17.01.2022 14:45</td>\n",
       "    </tr>\n",
       "    <tr>\n",
       "      <th>4</th>\n",
       "      <td>Claim_SR_Europa_3</td>\n",
       "      <td>RX_7795553</td>\n",
       "      <td>Contract_SR_Europa_3</td>\n",
       "      <td>343567665</td>\n",
       "      <td>2</td>\n",
       "      <td>27.09.2020</td>\n",
       "      <td>3434.98</td>\n",
       "      <td>17.01.2022 14:45</td>\n",
       "    </tr>\n",
       "  </tbody>\n",
       "</table>\n",
       "</div>"
      ]
     },
     "execution_count": 4,
     "metadata": {},
     "output_type": "execute_result"
    }
   ],
   "execution_count": 4
  },
  {
   "metadata": {
    "ExecuteTime": {
     "end_time": "2025-07-08T19:12:02.899685Z",
     "start_time": "2025-07-08T19:12:02.889710Z"
    }
   },
   "cell_type": "code",
   "source": "claims_df.dtypes",
   "id": "b49001645acf0ebe",
   "outputs": [
    {
     "data": {
      "text/plain": [
       "SOURCE_SYSTEM              object\n",
       "CLAIM_ID                   object\n",
       "CONTRACT_SOURCE_SYSTEM     object\n",
       "CONTRACT_ID                 int64\n",
       "CLAIM_TYPE                 object\n",
       "DATE_OF_LOSS               object\n",
       "AMOUNT                    float64\n",
       "CREATION_DATE              object\n",
       "dtype: object"
      ]
     },
     "execution_count": 5,
     "metadata": {},
     "output_type": "execute_result"
    }
   ],
   "execution_count": 5
  }
 ],
 "metadata": {
  "kernelspec": {
   "display_name": "Python 3",
   "language": "python",
   "name": "python3"
  },
  "language_info": {
   "codemirror_mode": {
    "name": "ipython",
    "version": 2
   },
   "file_extension": ".py",
   "mimetype": "text/x-python",
   "name": "python",
   "nbconvert_exporter": "python",
   "pygments_lexer": "ipython2",
   "version": "2.7.6"
  }
 },
 "nbformat": 4,
 "nbformat_minor": 5
}
