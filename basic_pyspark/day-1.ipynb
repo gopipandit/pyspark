{
 "cells": [
  {
   "cell_type": "code",
   "execution_count": 1,
   "metadata": {},
   "outputs": [],
   "source": [
    "from pyspark.sql import SparkSession"
   ]
  },
  {
   "cell_type": "code",
   "execution_count": 2,
   "metadata": {},
   "outputs": [],
   "source": [
    "spark = SparkSession.builder \\\n",
    "    .appName(\"basic\") \\\n",
    "    .master(\"local[*]\") \\\n",
    "    .getOrCreate()"
   ]
  },
  {
   "cell_type": "code",
   "execution_count": 3,
   "metadata": {},
   "outputs": [],
   "source": [
    "df = spark.read.csv(\"D:\\Business Analytics\\Data Visualization\\Power BI\\Power BI DAX\\Section 1\\Customers.csv\", header=True, inferSchema=True)"
   ]
  },
  {
   "cell_type": "code",
   "execution_count": 4,
   "metadata": {},
   "outputs": [
    {
     "name": "stdout",
     "output_type": "stream",
     "text": [
      "+-----------+------+---------+--------+---------+-------------+------+--------------------+------------+-------------+--------------+------------+---------+\n",
      "|CustomerKey|Prefix|FirstName|LastName|BirthDate|MaritalStatus|Gender|        EmailAddress|AnnualIncome|TotalChildren|EducationLevel|  Occupation|HomeOwner|\n",
      "+-----------+------+---------+--------+---------+-------------+------+--------------------+------------+-------------+--------------+------------+---------+\n",
      "|      11000|   MR.|    PAVAN| LALWANI| 4/8/1996|            M|     M|jon24@adventure-w...|    $90,000 |            2|     Bachelors|Professional|        Y|\n",
      "|      11001|   MR.|   EUGENE|   HUANG|5/14/1965|            S|     M|eugene10@adventur...|    $60,000 |            3|     Bachelors|Professional|        N|\n",
      "|      11002|   MR.|    RUBEN|  TORRES|8/12/1965|            M|     M|ruben35@adventure...|    $60,000 |            3|     Bachelors|Professional|        Y|\n",
      "|      11003|   MS.|  CHRISTY|     ZHU|2/15/1968|            S|     F|christy12@adventu...|    $70,000 |            0|     Bachelors|Professional|        N|\n",
      "|      11004|  MRS.|ELIZABETH| JOHNSON| 8/8/1968|            S|     F|elizabeth5@advent...|    $80,000 |            5|     Bachelors|Professional|        Y|\n",
      "+-----------+------+---------+--------+---------+-------------+------+--------------------+------------+-------------+--------------+------------+---------+\n",
      "\n"
     ]
    }
   ],
   "source": [
    "df.limit(5).show()"
   ]
  },
  {
   "cell_type": "code",
   "execution_count": 5,
   "metadata": {},
   "outputs": [],
   "source": [
    "from pyspark.sql.functions import *"
   ]
  },
  {
   "cell_type": "code",
   "execution_count": 6,
   "metadata": {},
   "outputs": [],
   "source": [
    "from pyspark.sql.types import *"
   ]
  },
  {
   "cell_type": "code",
   "execution_count": 7,
   "metadata": {},
   "outputs": [],
   "source": [
    "#Change the datatype of BirthDate to Date\n",
    "\n",
    "df_new = df.withColumn(\"DOB\", col(\"BirthDate\").cast(DateType()))"
   ]
  },
  {
   "cell_type": "code",
   "execution_count": 8,
   "metadata": {},
   "outputs": [
    {
     "name": "stdout",
     "output_type": "stream",
     "text": [
      "+-----------+------+---------+--------+---------+-------------+------+--------------------+------------+-------------+--------------+------------+---------+----+\n",
      "|CustomerKey|Prefix|FirstName|LastName|BirthDate|MaritalStatus|Gender|        EmailAddress|AnnualIncome|TotalChildren|EducationLevel|  Occupation|HomeOwner| DOB|\n",
      "+-----------+------+---------+--------+---------+-------------+------+--------------------+------------+-------------+--------------+------------+---------+----+\n",
      "|      11000|   MR.|    PAVAN| LALWANI| 4/8/1996|            M|     M|jon24@adventure-w...|    $90,000 |            2|     Bachelors|Professional|        Y|NULL|\n",
      "|      11001|   MR.|   EUGENE|   HUANG|5/14/1965|            S|     M|eugene10@adventur...|    $60,000 |            3|     Bachelors|Professional|        N|NULL|\n",
      "|      11002|   MR.|    RUBEN|  TORRES|8/12/1965|            M|     M|ruben35@adventure...|    $60,000 |            3|     Bachelors|Professional|        Y|NULL|\n",
      "|      11003|   MS.|  CHRISTY|     ZHU|2/15/1968|            S|     F|christy12@adventu...|    $70,000 |            0|     Bachelors|Professional|        N|NULL|\n",
      "|      11004|  MRS.|ELIZABETH| JOHNSON| 8/8/1968|            S|     F|elizabeth5@advent...|    $80,000 |            5|     Bachelors|Professional|        Y|NULL|\n",
      "+-----------+------+---------+--------+---------+-------------+------+--------------------+------------+-------------+--------------+------------+---------+----+\n",
      "\n"
     ]
    }
   ],
   "source": [
    "df_new.limit(5).show()"
   ]
  },
  {
   "cell_type": "code",
   "execution_count": 9,
   "metadata": {},
   "outputs": [],
   "source": [
    "df_new = df.withColumn(\"DOB\", to_date(col(\"BirthDate\"), \"M/d/yyyy\"))"
   ]
  },
  {
   "cell_type": "code",
   "execution_count": 10,
   "metadata": {},
   "outputs": [
    {
     "name": "stdout",
     "output_type": "stream",
     "text": [
      "+-----------+------+---------+--------+---------+-------------+------+--------------------+------------+-------------+--------------+------------+---------+----------+\n",
      "|CustomerKey|Prefix|FirstName|LastName|BirthDate|MaritalStatus|Gender|        EmailAddress|AnnualIncome|TotalChildren|EducationLevel|  Occupation|HomeOwner|       DOB|\n",
      "+-----------+------+---------+--------+---------+-------------+------+--------------------+------------+-------------+--------------+------------+---------+----------+\n",
      "|      11000|   MR.|    PAVAN| LALWANI| 4/8/1996|            M|     M|jon24@adventure-w...|    $90,000 |            2|     Bachelors|Professional|        Y|1996-04-08|\n",
      "|      11001|   MR.|   EUGENE|   HUANG|5/14/1965|            S|     M|eugene10@adventur...|    $60,000 |            3|     Bachelors|Professional|        N|1965-05-14|\n",
      "|      11002|   MR.|    RUBEN|  TORRES|8/12/1965|            M|     M|ruben35@adventure...|    $60,000 |            3|     Bachelors|Professional|        Y|1965-08-12|\n",
      "|      11003|   MS.|  CHRISTY|     ZHU|2/15/1968|            S|     F|christy12@adventu...|    $70,000 |            0|     Bachelors|Professional|        N|1968-02-15|\n",
      "|      11004|  MRS.|ELIZABETH| JOHNSON| 8/8/1968|            S|     F|elizabeth5@advent...|    $80,000 |            5|     Bachelors|Professional|        Y|1968-08-08|\n",
      "+-----------+------+---------+--------+---------+-------------+------+--------------------+------------+-------------+--------------+------------+---------+----------+\n",
      "\n"
     ]
    }
   ],
   "source": [
    "df_new.limit(5).show()"
   ]
  },
  {
   "cell_type": "code",
   "execution_count": 11,
   "metadata": {},
   "outputs": [
    {
     "name": "stdout",
     "output_type": "stream",
     "text": [
      "root\n",
      " |-- CustomerKey: integer (nullable = true)\n",
      " |-- Prefix: string (nullable = true)\n",
      " |-- FirstName: string (nullable = true)\n",
      " |-- LastName: string (nullable = true)\n",
      " |-- BirthDate: string (nullable = true)\n",
      " |-- MaritalStatus: string (nullable = true)\n",
      " |-- Gender: string (nullable = true)\n",
      " |-- EmailAddress: string (nullable = true)\n",
      " |-- AnnualIncome: string (nullable = true)\n",
      " |-- TotalChildren: integer (nullable = true)\n",
      " |-- EducationLevel: string (nullable = true)\n",
      " |-- Occupation: string (nullable = true)\n",
      " |-- HomeOwner: string (nullable = true)\n",
      " |-- DOB: date (nullable = true)\n",
      "\n"
     ]
    }
   ],
   "source": [
    "df_new.printSchema()"
   ]
  },
  {
   "cell_type": "code",
   "execution_count": 12,
   "metadata": {},
   "outputs": [],
   "source": [
    "df_new = df_new.drop(\"BirthDate\")"
   ]
  },
  {
   "cell_type": "code",
   "execution_count": 13,
   "metadata": {},
   "outputs": [
    {
     "name": "stdout",
     "output_type": "stream",
     "text": [
      "+-----------+------+---------+--------+-------------+------+--------------------+------------+-------------+--------------+------------+---------+----------+\n",
      "|CustomerKey|Prefix|FirstName|LastName|MaritalStatus|Gender|        EmailAddress|AnnualIncome|TotalChildren|EducationLevel|  Occupation|HomeOwner|       DOB|\n",
      "+-----------+------+---------+--------+-------------+------+--------------------+------------+-------------+--------------+------------+---------+----------+\n",
      "|      11000|   MR.|    PAVAN| LALWANI|            M|     M|jon24@adventure-w...|    $90,000 |            2|     Bachelors|Professional|        Y|1996-04-08|\n",
      "|      11001|   MR.|   EUGENE|   HUANG|            S|     M|eugene10@adventur...|    $60,000 |            3|     Bachelors|Professional|        N|1965-05-14|\n",
      "|      11002|   MR.|    RUBEN|  TORRES|            M|     M|ruben35@adventure...|    $60,000 |            3|     Bachelors|Professional|        Y|1965-08-12|\n",
      "|      11003|   MS.|  CHRISTY|     ZHU|            S|     F|christy12@adventu...|    $70,000 |            0|     Bachelors|Professional|        N|1968-02-15|\n",
      "|      11004|  MRS.|ELIZABETH| JOHNSON|            S|     F|elizabeth5@advent...|    $80,000 |            5|     Bachelors|Professional|        Y|1968-08-08|\n",
      "+-----------+------+---------+--------+-------------+------+--------------------+------------+-------------+--------------+------------+---------+----------+\n",
      "\n"
     ]
    }
   ],
   "source": [
    "df_new.limit(5).show()"
   ]
  },
  {
   "cell_type": "code",
   "execution_count": 14,
   "metadata": {},
   "outputs": [
    {
     "name": "stdout",
     "output_type": "stream",
     "text": [
      "+-------------+\n",
      "|MaritalStatus|\n",
      "+-------------+\n",
      "|            M|\n",
      "|            S|\n",
      "+-------------+\n",
      "\n"
     ]
    }
   ],
   "source": [
    "df_new.select(col(\"MaritalStatus\")).distinct().show()"
   ]
  },
  {
   "cell_type": "code",
   "execution_count": 15,
   "metadata": {},
   "outputs": [],
   "source": [
    "df_new = df_new.withColumn(\"MaritalStatus\", when(col(\"MaritalStatus\") == \"M\", \"Married\").otherwise(\"Single\"))"
   ]
  },
  {
   "cell_type": "code",
   "execution_count": 16,
   "metadata": {},
   "outputs": [],
   "source": [
    "from pyspark.sql.functions import regexp_replace"
   ]
  },
  {
   "cell_type": "code",
   "execution_count": 17,
   "metadata": {},
   "outputs": [],
   "source": [
    "df_new = df_new.withColumn(\"AnnualIncome\", regexp_replace(\"AnnualIncome\", \"[$,]\", \"\").cast('int'))"
   ]
  },
  {
   "cell_type": "code",
   "execution_count": 18,
   "metadata": {},
   "outputs": [
    {
     "name": "stdout",
     "output_type": "stream",
     "text": [
      "root\n",
      " |-- CustomerKey: integer (nullable = true)\n",
      " |-- Prefix: string (nullable = true)\n",
      " |-- FirstName: string (nullable = true)\n",
      " |-- LastName: string (nullable = true)\n",
      " |-- MaritalStatus: string (nullable = false)\n",
      " |-- Gender: string (nullable = true)\n",
      " |-- EmailAddress: string (nullable = true)\n",
      " |-- AnnualIncome: integer (nullable = true)\n",
      " |-- TotalChildren: integer (nullable = true)\n",
      " |-- EducationLevel: string (nullable = true)\n",
      " |-- Occupation: string (nullable = true)\n",
      " |-- HomeOwner: string (nullable = true)\n",
      " |-- DOB: date (nullable = true)\n",
      "\n"
     ]
    }
   ],
   "source": [
    "df_new.printSchema()"
   ]
  },
  {
   "cell_type": "code",
   "execution_count": 19,
   "metadata": {},
   "outputs": [],
   "source": [
    "group_by_col = [\"MaritalStatus\",\"Occupation\",\"EducationLevel\"]"
   ]
  },
  {
   "cell_type": "code",
   "execution_count": 20,
   "metadata": {},
   "outputs": [
    {
     "name": "stdout",
     "output_type": "stream",
     "text": [
      "+-------------+--------------+-------------------+--------------+------------+\n",
      "|MaritalStatus|    Occupation|     EducationLevel|Total Customer|Total Income|\n",
      "+-------------+--------------+-------------------+--------------+------------+\n",
      "|       Single|        Manual|          Bachelors|            29|      330000|\n",
      "|      Married|      Clerical|    Graduate Degree|           288|     9120000|\n",
      "|      Married|  Professional|          Bachelors|           814|    56430000|\n",
      "|       Single|        Manual|        High School|           655|    12680000|\n",
      "|       Single|    Management|          Bachelors|           575|    51340000|\n",
      "|      Married|Skilled Manual|Partial High School|           207|    13300000|\n",
      "|       Single|      Clerical|    Partial College|           729|    24390000|\n",
      "|       Single|    Management|        High School|           105|    11400000|\n",
      "|      Married|    Management|    Graduate Degree|           628|    54960000|\n",
      "|       Single|Skilled Manual|Partial High School|           150|    10210000|\n",
      "|      Married|        Manual|    Graduate Degree|            37|      420000|\n",
      "|       Single|    Management|    Partial College|            27|     3280000|\n",
      "|       Single|    Management|    Graduate Degree|           411|    38610000|\n",
      "|       Single|    Management|Partial High School|             5|      640000|\n",
      "|      Married|      Clerical|        High School|            49|     1470000|\n",
      "|       Single|Skilled Manual|        High School|           467|    19220000|\n",
      "|      Married|    Management|    Partial College|            58|     7050000|\n",
      "|      Married|Skilled Manual|    Graduate Degree|           410|    23190000|\n",
      "|      Married|Skilled Manual|        High School|           553|    19420000|\n",
      "|       Single|  Professional|        High School|           351|    24940000|\n",
      "+-------------+--------------+-------------------+--------------+------------+\n",
      "only showing top 20 rows\n",
      "\n"
     ]
    }
   ],
   "source": [
    "df_new.groupBy(group_by_col)\\\n",
    "    .agg(\n",
    "        countDistinct(\"CustomerKey\").alias(\"Total Customer\"),\n",
    "        sum(\"AnnualIncome\").alias(\"Total Income\")\n",
    "    ).show()"
   ]
  },
  {
   "cell_type": "code",
   "execution_count": 21,
   "metadata": {},
   "outputs": [
    {
     "name": "stdout",
     "output_type": "stream",
     "text": [
      "+--------------+--------------+------------+\n",
      "|    Occupation|Total Customer|Total Income|\n",
      "+--------------+--------------+------------+\n",
      "|  Professional|          5424|   402280000|\n",
      "|    Management|          3011|   277670000|\n",
      "|Skilled Manual|          4501|   232850000|\n",
      "|      Clerical|          2859|    87760000|\n",
      "|        Manual|          2353|    38760000|\n",
      "+--------------+--------------+------------+\n",
      "\n"
     ]
    }
   ],
   "source": [
    "df_new.groupBy(\"Occupation\")\\\n",
    "    .agg(\n",
    "        countDistinct(\"CustomerKey\").alias(\"Total Customer\"),\n",
    "        sum(\"AnnualIncome\").alias(\"Total Income\")\n",
    "    ).sort(desc(\"Total Income\")).show()"
   ]
  },
  {
   "cell_type": "code",
   "execution_count": 22,
   "metadata": {},
   "outputs": [],
   "source": [
    "df_new.createTempView(\"customer\")"
   ]
  },
  {
   "cell_type": "code",
   "execution_count": 30,
   "metadata": {},
   "outputs": [],
   "source": [
    "sql_result = spark.sql(\"\"\"Select * from {tab} LIMIT {lim}\"\"\".format(tab = \"customer\", lim = 5))"
   ]
  },
  {
   "cell_type": "code",
   "execution_count": 31,
   "metadata": {},
   "outputs": [
    {
     "name": "stdout",
     "output_type": "stream",
     "text": [
      "+-----------+------+---------+--------+-------------+------+--------------------+------------+-------------+--------------+------------+---------+----------+\n",
      "|CustomerKey|Prefix|FirstName|LastName|MaritalStatus|Gender|        EmailAddress|AnnualIncome|TotalChildren|EducationLevel|  Occupation|HomeOwner|       DOB|\n",
      "+-----------+------+---------+--------+-------------+------+--------------------+------------+-------------+--------------+------------+---------+----------+\n",
      "|      11000|   MR.|    PAVAN| LALWANI|      Married|     M|jon24@adventure-w...|       90000|            2|     Bachelors|Professional|        Y|1996-04-08|\n",
      "|      11001|   MR.|   EUGENE|   HUANG|       Single|     M|eugene10@adventur...|       60000|            3|     Bachelors|Professional|        N|1965-05-14|\n",
      "|      11002|   MR.|    RUBEN|  TORRES|      Married|     M|ruben35@adventure...|       60000|            3|     Bachelors|Professional|        Y|1965-08-12|\n",
      "|      11003|   MS.|  CHRISTY|     ZHU|       Single|     F|christy12@adventu...|       70000|            0|     Bachelors|Professional|        N|1968-02-15|\n",
      "|      11004|  MRS.|ELIZABETH| JOHNSON|       Single|     F|elizabeth5@advent...|       80000|            5|     Bachelors|Professional|        Y|1968-08-08|\n",
      "+-----------+------+---------+--------+-------------+------+--------------------+------------+-------------+--------------+------------+---------+----------+\n",
      "\n"
     ]
    }
   ],
   "source": [
    "sql_result.show()"
   ]
  },
  {
   "cell_type": "code",
   "execution_count": null,
   "metadata": {},
   "outputs": [],
   "source": []
  }
 ],
 "metadata": {
  "kernelspec": {
   "display_name": "pyspark",
   "language": "python",
   "name": "python3"
  },
  "language_info": {
   "codemirror_mode": {
    "name": "ipython",
    "version": 3
   },
   "file_extension": ".py",
   "mimetype": "text/x-python",
   "name": "python",
   "nbconvert_exporter": "python",
   "pygments_lexer": "ipython3",
   "version": "3.11.0"
  }
 },
 "nbformat": 4,
 "nbformat_minor": 2
}
