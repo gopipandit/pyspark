{
 "cells": [
  {
   "cell_type": "code",
   "execution_count": 2,
   "metadata": {},
   "outputs": [],
   "source": [
    "\n",
    "from pymongo.mongo_client import MongoClient\n",
    "from pymongo.server_api import ServerApi\n",
    "from dotenv import load_dotenv\n",
    "import os"
   ]
  },
  {
   "cell_type": "code",
   "execution_count": 7,
   "metadata": {},
   "outputs": [],
   "source": [
    "# Step 1: Load environment variables from .env file\n",
    "load_dotenv()\n",
    "\n",
    "# Step 2: Get the MongoDB URL from the environment variables\n",
    "uri = os.getenv(\"MONGODB_URL\")\n",
    "\n",
    "if not uri:\n",
    "    raise ValueError(\"MONGODB_URL not found in .env file\")"
   ]
  },
  {
   "cell_type": "code",
   "execution_count": 8,
   "metadata": {},
   "outputs": [
    {
     "name": "stdout",
     "output_type": "stream",
     "text": [
      "Pinged your deployment. You successfully connected to MongoDB!\n"
     ]
    }
   ],
   "source": [
    "# Create a new client and connect to the server\n",
    "client = MongoClient(uri, server_api=ServerApi('1'))\n",
    "\n",
    "# Send a ping to confirm a successful connection\n",
    "try:\n",
    "    client.admin.command('ping')\n",
    "    print(\"Pinged your deployment. You successfully connected to MongoDB!\")\n",
    "except Exception as e:\n",
    "    print(e)"
   ]
  },
  {
   "cell_type": "code",
   "execution_count": 4,
   "metadata": {},
   "outputs": [],
   "source": [
    "db = client['myDB']"
   ]
  },
  {
   "cell_type": "code",
   "execution_count": 5,
   "metadata": {},
   "outputs": [],
   "source": [
    "col = db['test']"
   ]
  },
  {
   "cell_type": "code",
   "execution_count": 6,
   "metadata": {},
   "outputs": [],
   "source": [
    "data = {\"First_Name\":\"Gopi\",\n",
    "        \"Last_Name\":\"Pandit\",\n",
    "        \"Age\":32,\n",
    "        \"Phone Number\" : 70032440,\n",
    "        \"Gender\" :\"Male\",\n",
    "        \"Address\" : \"Bangalore\"}"
   ]
  },
  {
   "cell_type": "code",
   "execution_count": 7,
   "metadata": {},
   "outputs": [
    {
     "data": {
      "text/plain": [
       "InsertOneResult(ObjectId('67a4e8a3c34197002c73e93c'), acknowledged=True)"
      ]
     },
     "execution_count": 7,
     "metadata": {},
     "output_type": "execute_result"
    }
   ],
   "source": [
    "col.insert_one(data)"
   ]
  },
  {
   "cell_type": "code",
   "execution_count": 9,
   "metadata": {},
   "outputs": [],
   "source": [
    "data2 = {\"_id\" : 2,\n",
    "        \"First_Name\":\"Anupam\",\n",
    "        \"Last_Name\":\"Pandit\",\n",
    "        \"Age\":24,\n",
    "        \"Phone Number\" : 7856853,\n",
    "        \"Gender\" :\"Male\",\n",
    "        \"Address\" : \"HSR, Bangalore\",\n",
    "        \"Hobbies\" : \"Making money\"}"
   ]
  },
  {
   "cell_type": "code",
   "execution_count": 10,
   "metadata": {},
   "outputs": [
    {
     "data": {
      "text/plain": [
       "InsertOneResult(2, acknowledged=True)"
      ]
     },
     "execution_count": 10,
     "metadata": {},
     "output_type": "execute_result"
    }
   ],
   "source": [
    "col.insert_one(data2)"
   ]
  },
  {
   "cell_type": "code",
   "execution_count": 12,
   "metadata": {},
   "outputs": [],
   "source": [
    "from pymongo import MongoClient\n",
    "from bson import ObjectId"
   ]
  },
  {
   "cell_type": "code",
   "execution_count": 14,
   "metadata": {},
   "outputs": [
    {
     "name": "stdout",
     "output_type": "stream",
     "text": [
      "Document _id updated successfully!\n"
     ]
    }
   ],
   "source": [
    "# Step 2: Fetch the document with the current _id\n",
    "current_id = ObjectId(\"67a4e8a3c34197002c73e93c\")  # Replace with your _id\n",
    "document = col.find_one({\"_id\": current_id})\n",
    "\n",
    "if document:\n",
    "    # Step 3: Create a new document with the updated _id\n",
    "    new_id = 1  # Replace with your desired _id\n",
    "    new_document = document.copy()  # Copy the original document\n",
    "    new_document[\"_id\"] = new_id  # Update the _id field\n",
    "\n",
    "    # Step 4: Insert the new document\n",
    "    col.insert_one(new_document)\n",
    "\n",
    "    # Step 5: Delete the old document\n",
    "    col.delete_one({\"_id\": current_id})\n",
    "\n",
    "    print(\"Document _id updated successfully!\")\n",
    "else:\n",
    "    print(\"Document not found.\")"
   ]
  },
  {
   "cell_type": "code",
   "execution_count": 15,
   "metadata": {},
   "outputs": [
    {
     "data": {
      "text/plain": [
       "InsertOneResult(ObjectId('67a4e8a3c34197002c73e93c'), acknowledged=True)"
      ]
     },
     "execution_count": 15,
     "metadata": {},
     "output_type": "execute_result"
    }
   ],
   "source": [
    "col.insert_one(data)"
   ]
  },
  {
   "cell_type": "code",
   "execution_count": 25,
   "metadata": {},
   "outputs": [],
   "source": [
    "d = col.find()"
   ]
  },
  {
   "cell_type": "code",
   "execution_count": 26,
   "metadata": {},
   "outputs": [
    {
     "name": "stdout",
     "output_type": "stream",
     "text": [
      "dict_keys(['_id', 'First_Name', 'Last_Name', 'Age', 'Phone Number', 'Gender', 'Address', 'Hobbies'])\n",
      "dict_keys(['_id', 'First_Name', 'Last_Name', 'Age', 'Phone Number', 'Gender', 'Address'])\n",
      "dict_keys(['_id', 'First_Name', 'Last_Name', 'Age', 'Phone Number', 'Gender', 'Address'])\n"
     ]
    }
   ],
   "source": [
    "for i in d:\n",
    "    print(i.keys())"
   ]
  },
  {
   "cell_type": "code",
   "execution_count": 27,
   "metadata": {},
   "outputs": [],
   "source": [
    "documents = [\n",
    "    {\n",
    "        \"First_Name\": \"John\",\n",
    "        \"Last_Name\": \"Doe\",\n",
    "        \"Age\": 28,\n",
    "        \"Phone_Number\": \"123-456-7890\",\n",
    "        \"Gender\": \"Male\",\n",
    "        \"Address\": {\n",
    "            \"Street\": \"123 Main St\",\n",
    "            \"City\": \"New York\",\n",
    "            \"State\": \"NY\",\n",
    "            \"Zipcode\": \"10001\"\n",
    "        }\n",
    "    },\n",
    "    {\n",
    "        \"First_Name\": \"Jane\",\n",
    "        \"Last_Name\": \"Smith\",\n",
    "        \"Age\": 34,\n",
    "        \"Phone_Number\": \"987-654-3210\",\n",
    "        \"Gender\": \"Female\",\n",
    "        \"Address\": {\n",
    "            \"Street\": \"456 Elm St\",\n",
    "            \"City\": \"Los Angeles\",\n",
    "            \"State\": \"CA\",\n",
    "            \"Zipcode\": \"90001\"\n",
    "        }\n",
    "    },\n",
    "    {\n",
    "        \"First_Name\": \"Alice\",\n",
    "        \"Last_Name\": \"Johnson\",\n",
    "        \"Age\": 22,\n",
    "        \"Phone_Number\": \"555-123-4567\",\n",
    "        \"Gender\": \"Female\",\n",
    "        \"Address\": {\n",
    "            \"Street\": \"789 Oak St\",\n",
    "            \"City\": \"Chicago\",\n",
    "            \"State\": \"IL\",\n",
    "            \"Zipcode\": \"60601\"\n",
    "        }\n",
    "    },\n",
    "    {\n",
    "        \"First_Name\": \"Bob\",\n",
    "        \"Last_Name\": \"Brown\",\n",
    "        \"Age\": 45,\n",
    "        \"Phone_Number\": \"444-555-6666\",\n",
    "        \"Gender\": \"Male\",\n",
    "        \"Address\": {\n",
    "            \"Street\": \"101 Pine St\",\n",
    "            \"City\": \"Houston\",\n",
    "            \"State\": \"TX\",\n",
    "            \"Zipcode\": \"77001\"\n",
    "        }\n",
    "    },\n",
    "    {\n",
    "        \"First_Name\": \"Charlie\",\n",
    "        \"Last_Name\": \"Davis\",\n",
    "        \"Age\": 30,\n",
    "        \"Phone_Number\": \"777-888-9999\",\n",
    "        \"Gender\": \"Male\",\n",
    "        \"Address\": {\n",
    "            \"Street\": \"202 Maple St\",\n",
    "            \"City\": \"Phoenix\",\n",
    "            \"State\": \"AZ\",\n",
    "            \"Zipcode\": \"85001\"\n",
    "        }\n",
    "    }\n",
    "]"
   ]
  },
  {
   "cell_type": "code",
   "execution_count": 29,
   "metadata": {},
   "outputs": [
    {
     "data": {
      "text/plain": [
       "InsertManyResult([ObjectId('67a4ee47c34197002c73e93d'), ObjectId('67a4ee47c34197002c73e93e'), ObjectId('67a4ee47c34197002c73e93f'), ObjectId('67a4ee47c34197002c73e940'), ObjectId('67a4ee47c34197002c73e941')], acknowledged=True)"
      ]
     },
     "execution_count": 29,
     "metadata": {},
     "output_type": "execute_result"
    }
   ],
   "source": [
    "col.insert_many(documents)"
   ]
  },
  {
   "cell_type": "code",
   "execution_count": 30,
   "metadata": {},
   "outputs": [
    {
     "name": "stdout",
     "output_type": "stream",
     "text": [
      "{'_id': ObjectId('67a4ee47c34197002c73e941'), 'First_Name': 'Charlie', 'Last_Name': 'Davis', 'Age': 30, 'Phone_Number': '777-888-9999', 'Gender': 'Male', 'Address': {'Street': '202 Maple St', 'City': 'Phoenix', 'State': 'AZ', 'Zipcode': '85001'}}\n"
     ]
    }
   ],
   "source": [
    "for i in col.find({\"First_Name\" : \"Charlie\"}):\n",
    "    print(i)"
   ]
  },
  {
   "cell_type": "code",
   "execution_count": null,
   "metadata": {},
   "outputs": [],
   "source": []
  }
 ],
 "metadata": {
  "kernelspec": {
   "display_name": "pyspark",
   "language": "python",
   "name": "python3"
  },
  "language_info": {
   "codemirror_mode": {
    "name": "ipython",
    "version": 3
   },
   "file_extension": ".py",
   "mimetype": "text/x-python",
   "name": "python",
   "nbconvert_exporter": "python",
   "pygments_lexer": "ipython3",
   "version": "3.11.0"
  }
 },
 "nbformat": 4,
 "nbformat_minor": 2
}
