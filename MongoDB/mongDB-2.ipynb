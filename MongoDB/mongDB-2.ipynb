{
 "cells": [
  {
   "cell_type": "code",
   "execution_count": 1,
   "metadata": {},
   "outputs": [],
   "source": [
    "from pymongo.mongo_client import MongoClient\n",
    "from pymongo.server_api import ServerApi\n",
    "from dotenv import load_dotenv\n",
    "import os"
   ]
  },
  {
   "cell_type": "code",
   "execution_count": 3,
   "metadata": {},
   "outputs": [],
   "source": [
    "load_dotenv()\n",
    "uri = os.getenv(\"MONGODB_URL\")"
   ]
  },
  {
   "cell_type": "code",
   "execution_count": 4,
   "metadata": {},
   "outputs": [],
   "source": [
    "client = MongoClient(uri, server_api=ServerApi('1'))"
   ]
  },
  {
   "cell_type": "code",
   "execution_count": 5,
   "metadata": {},
   "outputs": [],
   "source": [
    "db = client['invertory']"
   ]
  },
  {
   "cell_type": "code",
   "execution_count": 6,
   "metadata": {},
   "outputs": [],
   "source": [
    "collection = db['supply_chain_data']"
   ]
  },
  {
   "cell_type": "code",
   "execution_count": 8,
   "metadata": {},
   "outputs": [],
   "source": [
    "import pandas as pd"
   ]
  },
  {
   "cell_type": "code",
   "execution_count": 9,
   "metadata": {},
   "outputs": [],
   "source": [
    "df = pd.read_csv(\"F:\\Pyspark-2025\\pyspark\\supply_chain.csv\")"
   ]
  },
  {
   "cell_type": "code",
   "execution_count": 10,
   "metadata": {},
   "outputs": [
    {
     "data": {
      "text/html": [
       "<div>\n",
       "<style scoped>\n",
       "    .dataframe tbody tr th:only-of-type {\n",
       "        vertical-align: middle;\n",
       "    }\n",
       "\n",
       "    .dataframe tbody tr th {\n",
       "        vertical-align: top;\n",
       "    }\n",
       "\n",
       "    .dataframe thead th {\n",
       "        text-align: right;\n",
       "    }\n",
       "</style>\n",
       "<table border=\"1\" class=\"dataframe\">\n",
       "  <thead>\n",
       "    <tr style=\"text-align: right;\">\n",
       "      <th></th>\n",
       "      <th>Product type</th>\n",
       "      <th>SKU</th>\n",
       "      <th>Price</th>\n",
       "      <th>Availability</th>\n",
       "      <th>Number of products sold</th>\n",
       "      <th>Revenue generated</th>\n",
       "      <th>Customer demographics</th>\n",
       "      <th>Stock levels</th>\n",
       "      <th>Lead times</th>\n",
       "      <th>Order quantities</th>\n",
       "      <th>...</th>\n",
       "      <th>Location</th>\n",
       "      <th>Lead time</th>\n",
       "      <th>Production volumes</th>\n",
       "      <th>Manufacturing lead time</th>\n",
       "      <th>Manufacturing costs</th>\n",
       "      <th>Inspection results</th>\n",
       "      <th>Defect rates</th>\n",
       "      <th>Transportation modes</th>\n",
       "      <th>Routes</th>\n",
       "      <th>Costs</th>\n",
       "    </tr>\n",
       "  </thead>\n",
       "  <tbody>\n",
       "    <tr>\n",
       "      <th>0</th>\n",
       "      <td>haircare</td>\n",
       "      <td>SKU0</td>\n",
       "      <td>69.808006</td>\n",
       "      <td>55</td>\n",
       "      <td>802</td>\n",
       "      <td>8661.996792</td>\n",
       "      <td>Non-binary</td>\n",
       "      <td>58</td>\n",
       "      <td>7</td>\n",
       "      <td>96</td>\n",
       "      <td>...</td>\n",
       "      <td>Mumbai</td>\n",
       "      <td>29</td>\n",
       "      <td>215</td>\n",
       "      <td>29</td>\n",
       "      <td>46.279879</td>\n",
       "      <td>Pending</td>\n",
       "      <td>0.226410</td>\n",
       "      <td>Road</td>\n",
       "      <td>Route B</td>\n",
       "      <td>187.752075</td>\n",
       "    </tr>\n",
       "    <tr>\n",
       "      <th>1</th>\n",
       "      <td>skincare</td>\n",
       "      <td>SKU1</td>\n",
       "      <td>14.843523</td>\n",
       "      <td>95</td>\n",
       "      <td>736</td>\n",
       "      <td>7460.900065</td>\n",
       "      <td>Female</td>\n",
       "      <td>53</td>\n",
       "      <td>30</td>\n",
       "      <td>37</td>\n",
       "      <td>...</td>\n",
       "      <td>Mumbai</td>\n",
       "      <td>23</td>\n",
       "      <td>517</td>\n",
       "      <td>30</td>\n",
       "      <td>33.616769</td>\n",
       "      <td>Pending</td>\n",
       "      <td>4.854068</td>\n",
       "      <td>Road</td>\n",
       "      <td>Route B</td>\n",
       "      <td>503.065579</td>\n",
       "    </tr>\n",
       "    <tr>\n",
       "      <th>2</th>\n",
       "      <td>haircare</td>\n",
       "      <td>SKU2</td>\n",
       "      <td>11.319683</td>\n",
       "      <td>34</td>\n",
       "      <td>8</td>\n",
       "      <td>9577.749626</td>\n",
       "      <td>Unknown</td>\n",
       "      <td>1</td>\n",
       "      <td>10</td>\n",
       "      <td>88</td>\n",
       "      <td>...</td>\n",
       "      <td>Mumbai</td>\n",
       "      <td>12</td>\n",
       "      <td>971</td>\n",
       "      <td>27</td>\n",
       "      <td>30.688019</td>\n",
       "      <td>Pending</td>\n",
       "      <td>4.580593</td>\n",
       "      <td>Air</td>\n",
       "      <td>Route C</td>\n",
       "      <td>141.920282</td>\n",
       "    </tr>\n",
       "    <tr>\n",
       "      <th>3</th>\n",
       "      <td>skincare</td>\n",
       "      <td>SKU3</td>\n",
       "      <td>61.163343</td>\n",
       "      <td>68</td>\n",
       "      <td>83</td>\n",
       "      <td>7766.836426</td>\n",
       "      <td>Non-binary</td>\n",
       "      <td>23</td>\n",
       "      <td>13</td>\n",
       "      <td>59</td>\n",
       "      <td>...</td>\n",
       "      <td>Kolkata</td>\n",
       "      <td>24</td>\n",
       "      <td>937</td>\n",
       "      <td>18</td>\n",
       "      <td>35.624741</td>\n",
       "      <td>Fail</td>\n",
       "      <td>4.746649</td>\n",
       "      <td>Rail</td>\n",
       "      <td>Route A</td>\n",
       "      <td>254.776159</td>\n",
       "    </tr>\n",
       "    <tr>\n",
       "      <th>4</th>\n",
       "      <td>skincare</td>\n",
       "      <td>SKU4</td>\n",
       "      <td>4.805496</td>\n",
       "      <td>26</td>\n",
       "      <td>871</td>\n",
       "      <td>2686.505152</td>\n",
       "      <td>Non-binary</td>\n",
       "      <td>5</td>\n",
       "      <td>3</td>\n",
       "      <td>56</td>\n",
       "      <td>...</td>\n",
       "      <td>Delhi</td>\n",
       "      <td>5</td>\n",
       "      <td>414</td>\n",
       "      <td>3</td>\n",
       "      <td>92.065161</td>\n",
       "      <td>Fail</td>\n",
       "      <td>3.145580</td>\n",
       "      <td>Air</td>\n",
       "      <td>Route A</td>\n",
       "      <td>923.440632</td>\n",
       "    </tr>\n",
       "  </tbody>\n",
       "</table>\n",
       "<p>5 rows × 24 columns</p>\n",
       "</div>"
      ],
      "text/plain": [
       "  Product type   SKU      Price  Availability  Number of products sold  \\\n",
       "0     haircare  SKU0  69.808006            55                      802   \n",
       "1     skincare  SKU1  14.843523            95                      736   \n",
       "2     haircare  SKU2  11.319683            34                        8   \n",
       "3     skincare  SKU3  61.163343            68                       83   \n",
       "4     skincare  SKU4   4.805496            26                      871   \n",
       "\n",
       "   Revenue generated Customer demographics  Stock levels  Lead times  \\\n",
       "0        8661.996792            Non-binary            58           7   \n",
       "1        7460.900065                Female            53          30   \n",
       "2        9577.749626               Unknown             1          10   \n",
       "3        7766.836426            Non-binary            23          13   \n",
       "4        2686.505152            Non-binary             5           3   \n",
       "\n",
       "   Order quantities  ...  Location Lead time  Production volumes  \\\n",
       "0                96  ...    Mumbai        29                 215   \n",
       "1                37  ...    Mumbai        23                 517   \n",
       "2                88  ...    Mumbai        12                 971   \n",
       "3                59  ...   Kolkata        24                 937   \n",
       "4                56  ...     Delhi         5                 414   \n",
       "\n",
       "  Manufacturing lead time Manufacturing costs  Inspection results  \\\n",
       "0                      29           46.279879             Pending   \n",
       "1                      30           33.616769             Pending   \n",
       "2                      27           30.688019             Pending   \n",
       "3                      18           35.624741                Fail   \n",
       "4                       3           92.065161                Fail   \n",
       "\n",
       "   Defect rates  Transportation modes   Routes       Costs  \n",
       "0      0.226410                  Road  Route B  187.752075  \n",
       "1      4.854068                  Road  Route B  503.065579  \n",
       "2      4.580593                   Air  Route C  141.920282  \n",
       "3      4.746649                  Rail  Route A  254.776159  \n",
       "4      3.145580                   Air  Route A  923.440632  \n",
       "\n",
       "[5 rows x 24 columns]"
      ]
     },
     "execution_count": 10,
     "metadata": {},
     "output_type": "execute_result"
    }
   ],
   "source": [
    "df.head()"
   ]
  },
  {
   "cell_type": "code",
   "execution_count": 13,
   "metadata": {},
   "outputs": [],
   "source": [
    "data = df.to_dict(\"records\")"
   ]
  },
  {
   "cell_type": "code",
   "execution_count": 15,
   "metadata": {},
   "outputs": [
    {
     "data": {
      "text/plain": [
       "InsertManyResult([ObjectId('67ab99b69e1de259bb5502b7'), ObjectId('67ab99b69e1de259bb5502b8'), ObjectId('67ab99b69e1de259bb5502b9'), ObjectId('67ab99b69e1de259bb5502ba'), ObjectId('67ab99b69e1de259bb5502bb'), ObjectId('67ab99b69e1de259bb5502bc'), ObjectId('67ab99b69e1de259bb5502bd'), ObjectId('67ab99b69e1de259bb5502be'), ObjectId('67ab99b69e1de259bb5502bf'), ObjectId('67ab99b69e1de259bb5502c0'), ObjectId('67ab99b69e1de259bb5502c1'), ObjectId('67ab99b69e1de259bb5502c2'), ObjectId('67ab99b69e1de259bb5502c3'), ObjectId('67ab99b69e1de259bb5502c4'), ObjectId('67ab99b69e1de259bb5502c5'), ObjectId('67ab99b69e1de259bb5502c6'), ObjectId('67ab99b69e1de259bb5502c7'), ObjectId('67ab99b69e1de259bb5502c8'), ObjectId('67ab99b69e1de259bb5502c9'), ObjectId('67ab99b69e1de259bb5502ca'), ObjectId('67ab99b69e1de259bb5502cb'), ObjectId('67ab99b69e1de259bb5502cc'), ObjectId('67ab99b69e1de259bb5502cd'), ObjectId('67ab99b69e1de259bb5502ce'), ObjectId('67ab99b69e1de259bb5502cf'), ObjectId('67ab99b69e1de259bb5502d0'), ObjectId('67ab99b69e1de259bb5502d1'), ObjectId('67ab99b69e1de259bb5502d2'), ObjectId('67ab99b69e1de259bb5502d3'), ObjectId('67ab99b69e1de259bb5502d4'), ObjectId('67ab99b69e1de259bb5502d5'), ObjectId('67ab99b69e1de259bb5502d6'), ObjectId('67ab99b69e1de259bb5502d7'), ObjectId('67ab99b69e1de259bb5502d8'), ObjectId('67ab99b69e1de259bb5502d9'), ObjectId('67ab99b69e1de259bb5502da'), ObjectId('67ab99b69e1de259bb5502db'), ObjectId('67ab99b69e1de259bb5502dc'), ObjectId('67ab99b69e1de259bb5502dd'), ObjectId('67ab99b69e1de259bb5502de'), ObjectId('67ab99b69e1de259bb5502df'), ObjectId('67ab99b69e1de259bb5502e0'), ObjectId('67ab99b69e1de259bb5502e1'), ObjectId('67ab99b69e1de259bb5502e2'), ObjectId('67ab99b69e1de259bb5502e3'), ObjectId('67ab99b69e1de259bb5502e4'), ObjectId('67ab99b69e1de259bb5502e5'), ObjectId('67ab99b69e1de259bb5502e6'), ObjectId('67ab99b69e1de259bb5502e7'), ObjectId('67ab99b69e1de259bb5502e8'), ObjectId('67ab99b69e1de259bb5502e9'), ObjectId('67ab99b69e1de259bb5502ea'), ObjectId('67ab99b69e1de259bb5502eb'), ObjectId('67ab99b69e1de259bb5502ec'), ObjectId('67ab99b69e1de259bb5502ed'), ObjectId('67ab99b69e1de259bb5502ee'), ObjectId('67ab99b69e1de259bb5502ef'), ObjectId('67ab99b69e1de259bb5502f0'), ObjectId('67ab99b69e1de259bb5502f1'), ObjectId('67ab99b69e1de259bb5502f2'), ObjectId('67ab99b69e1de259bb5502f3'), ObjectId('67ab99b69e1de259bb5502f4'), ObjectId('67ab99b69e1de259bb5502f5'), ObjectId('67ab99b69e1de259bb5502f6'), ObjectId('67ab99b69e1de259bb5502f7'), ObjectId('67ab99b69e1de259bb5502f8'), ObjectId('67ab99b69e1de259bb5502f9'), ObjectId('67ab99b69e1de259bb5502fa'), ObjectId('67ab99b69e1de259bb5502fb'), ObjectId('67ab99b69e1de259bb5502fc'), ObjectId('67ab99b69e1de259bb5502fd'), ObjectId('67ab99b69e1de259bb5502fe'), ObjectId('67ab99b69e1de259bb5502ff'), ObjectId('67ab99b69e1de259bb550300'), ObjectId('67ab99b69e1de259bb550301'), ObjectId('67ab99b69e1de259bb550302'), ObjectId('67ab99b69e1de259bb550303'), ObjectId('67ab99b69e1de259bb550304'), ObjectId('67ab99b69e1de259bb550305'), ObjectId('67ab99b69e1de259bb550306'), ObjectId('67ab99b69e1de259bb550307'), ObjectId('67ab99b69e1de259bb550308'), ObjectId('67ab99b69e1de259bb550309'), ObjectId('67ab99b69e1de259bb55030a'), ObjectId('67ab99b69e1de259bb55030b'), ObjectId('67ab99b69e1de259bb55030c'), ObjectId('67ab99b69e1de259bb55030d'), ObjectId('67ab99b69e1de259bb55030e'), ObjectId('67ab99b69e1de259bb55030f'), ObjectId('67ab99b69e1de259bb550310'), ObjectId('67ab99b69e1de259bb550311'), ObjectId('67ab99b69e1de259bb550312'), ObjectId('67ab99b69e1de259bb550313'), ObjectId('67ab99b69e1de259bb550314'), ObjectId('67ab99b69e1de259bb550315'), ObjectId('67ab99b69e1de259bb550316'), ObjectId('67ab99b69e1de259bb550317'), ObjectId('67ab99b69e1de259bb550318'), ObjectId('67ab99b69e1de259bb550319'), ObjectId('67ab99b69e1de259bb55031a')], acknowledged=True)"
      ]
     },
     "execution_count": 15,
     "metadata": {},
     "output_type": "execute_result"
    }
   ],
   "source": [
    "collection.insert_many(data)"
   ]
  },
  {
   "cell_type": "code",
   "execution_count": 17,
   "metadata": {},
   "outputs": [],
   "source": [
    "client.close()"
   ]
  }
 ],
 "metadata": {
  "kernelspec": {
   "display_name": "Python 3",
   "language": "python",
   "name": "python3"
  },
  "language_info": {
   "codemirror_mode": {
    "name": "ipython",
    "version": 3
   },
   "file_extension": ".py",
   "mimetype": "text/x-python",
   "name": "python",
   "nbconvert_exporter": "python",
   "pygments_lexer": "ipython3",
   "version": "3.11.0"
  }
 },
 "nbformat": 4,
 "nbformat_minor": 2
}
